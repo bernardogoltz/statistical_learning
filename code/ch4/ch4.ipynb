{
 "cells": [
  {
   "cell_type": "markdown",
   "id": "54cab434",
   "metadata": {},
   "source": [
    "# 4 - Classification"
   ]
  },
  {
   "cell_type": "markdown",
   "id": "72df701a",
   "metadata": {},
   "source": [
    "## 4.2 Why not linear regression?\n",
    "- Not provides _meaningful_ estimate of some Probability ; \n",
    "- Cannot acomodate more than 2 classes.\n",
    "\n",
    "## 4.3 Logistic Regression"
   ]
  },
  {
   "cell_type": "markdown",
   "id": "da86f587",
   "metadata": {},
   "source": []
  },
  {
   "cell_type": "code",
   "execution_count": 15,
   "id": "75cccf94",
   "metadata": {},
   "outputs": [
    {
     "name": "stdout",
     "output_type": "stream",
     "text": [
      "['default', 'student', 'balance', 'income']\n"
     ]
    },
    {
     "data": {
      "text/plain": [
       "0        729.526495\n",
       "1        817.180407\n",
       "2       1073.549164\n",
       "3        529.250605\n",
       "4        785.655883\n",
       "           ...     \n",
       "9995     711.555020\n",
       "9996     757.962918\n",
       "9997     845.411989\n",
       "9998    1569.009053\n",
       "9999     200.922183\n",
       "Name: balance, Length: 10000, dtype: float64"
      ]
     },
     "execution_count": 15,
     "metadata": {},
     "output_type": "execute_result"
    }
   ],
   "source": [
    "import pandas as pd \n",
    "PATH = '/Users/bernardoivogoltz/Documents/Projetos/toolbox_matematica/statistical_learning/datasets/Default.csv'\n",
    "\n",
    "df = pd.read_csv(PATH)\n",
    "\n",
    "print([c for c in df.columns])\n",
    "\n",
    "df[\"balance\"] \n"
   ]
  },
  {
   "cell_type": "markdown",
   "id": "da1c65e7",
   "metadata": {},
   "source": [
    "### **Task** - Estimate Inadimplence Probability given monthly credit card balances of a number of individuals\n",
    "\n",
    "$$\n",
    "\\Pr(\\text{default} = \\text{Yes} \\mid \\text{balance})\n",
    "$$"
   ]
  },
  {
   "cell_type": "code",
   "execution_count": 14,
   "id": "f8a81ab4",
   "metadata": {},
   "outputs": [
    {
     "data": {
      "text/plain": [
       "default\n",
       "No     96.67\n",
       "Yes     3.33\n",
       "Name: count, dtype: float64"
      ]
     },
     "execution_count": 14,
     "metadata": {},
     "output_type": "execute_result"
    }
   ],
   "source": [
    "(df['default'].value_counts()/len(df['default']))*100"
   ]
  }
 ],
 "metadata": {
  "kernelspec": {
   "display_name": "base",
   "language": "python",
   "name": "python3"
  },
  "language_info": {
   "codemirror_mode": {
    "name": "ipython",
    "version": 3
   },
   "file_extension": ".py",
   "mimetype": "text/x-python",
   "name": "python",
   "nbconvert_exporter": "python",
   "pygments_lexer": "ipython3",
   "version": "3.12.7"
  }
 },
 "nbformat": 4,
 "nbformat_minor": 5
}
