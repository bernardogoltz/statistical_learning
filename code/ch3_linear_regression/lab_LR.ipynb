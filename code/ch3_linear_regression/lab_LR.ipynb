{
 "cells": [
  {
   "cell_type": "markdown",
   "id": "33891900",
   "metadata": {},
   "source": [
    "# Chapter 3 , Lab , linear regression\n",
    "Created on Sat Apr  5 20:52:07 2025\n",
    "@author: Bernardo"
   ]
  },
  {
   "cell_type": "code",
   "execution_count": 1,
   "id": "5144e1ce",
   "metadata": {},
   "outputs": [],
   "source": [
    "\n",
    "import numpy as np \n",
    "import pandas as pd \n",
    "import matplotlib.pyplot as plt \n",
    "\n",
    "import statsmodels.api as sm \n",
    "\n",
    "from statsmodels.stats.outliers_influence import variance_inflation_factor as VIF \n",
    "\n",
    "from statsmodels.stats.anova import anova_lm\n",
    "\n",
    "\n",
    "df = pd.read_csv('C:/Users/Bernardo/Documents/ISLP/datasets/Boston.csv')\n",
    "\n"
   ]
  }
 ],
 "metadata": {
  "kernelspec": {
   "display_name": "base",
   "language": "python",
   "name": "python3"
  },
  "language_info": {
   "codemirror_mode": {
    "name": "ipython",
    "version": 3
   },
   "file_extension": ".py",
   "mimetype": "text/x-python",
   "name": "python",
   "nbconvert_exporter": "python",
   "pygments_lexer": "ipython3",
   "version": "3.12.7"
  }
 },
 "nbformat": 4,
 "nbformat_minor": 5
}
